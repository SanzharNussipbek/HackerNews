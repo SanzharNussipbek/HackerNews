{
 "cells": [
  {
   "cell_type": "markdown",
   "metadata": {
    "collapsed": true
   },
   "source": [
    "# Exploring Hacker News Posts\n",
    "\n",
    "This project is aimed to explore the data set containing information about posts from [Hacker News](https://news.ycombinator.com) platform and analyze the type and time of the posts to find the best option for writer to write their posts.<br><br>\n",
    "There are two types of posts:\n",
    "1. Those which start with \"Ask HN\" where users ask the community of Hacker News a question.\n",
    "2. Those which start with \"Show HN\" where users show the community a project, product and etc.<br>\n",
    "\n",
    "The goal is to determine which type of posts get more number of comments on average and what time of publication is more efficient to get more comments under a post."
   ]
  },
  {
   "cell_type": "markdown",
   "metadata": {},
   "source": [
    "# 1. Opening and exploring the data set\n",
    "First, we read the data set and turn the values into a list, removing the header."
   ]
  },
  {
   "cell_type": "code",
   "execution_count": 1,
   "metadata": {},
   "outputs": [
    {
     "name": "stdout",
     "output_type": "stream",
     "text": [
      "\u001b[1mTotal number of posts before cleaning: \u001b[0m 293119 \n",
      "\n",
      "['id', 'title', 'url', 'num_points', 'num_comments', 'author', 'created_at'] \n",
      "\n",
      "['12579008', 'You have two days to comment if you want stem cells to be classified as your own', 'http://www.regulations.gov/document?D=FDA-2015-D-3719-0018', '1', '0', 'altstar', '9/26/2016 3:26'] \n",
      "\n",
      "['12579005', 'SQLAR  the SQLite Archiver', 'https://www.sqlite.org/sqlar/doc/trunk/README.md', '1', '0', 'blacksqr', '9/26/2016 3:24'] \n",
      "\n",
      "['12578997', 'What if we just printed a flatscreen television on the side of our boxes?', 'https://medium.com/vanmoof/our-secrets-out-f21c1f03fdc8#.ietxmez43', '1', '0', 'pavel_lishin', '9/26/2016 3:19'] \n",
      "\n",
      "['12578989', 'algorithmic music', 'http://cacm.acm.org/magazines/2011/7/109891-algorithmic-composition/fulltext', '1', '0', 'poindontcare', '9/26/2016 3:16'] \n",
      "\n",
      "['12578979', 'How the Data Vault Enables the Next-Gen Data Warehouse and Data Lake', 'https://www.talend.com/blog/2016/05/12/talend-and-Â\\x93the-data-vaultÂ\\x94', '1', '0', 'markgainor1', '9/26/2016 3:14'] \n",
      "\n"
     ]
    }
   ],
   "source": [
    "from csv import reader\n",
    "opened_file = open(\"hacker_news.csv\")\n",
    "read_file = reader(opened_file)\n",
    "hn = list(read_file)\n",
    "headers=hn[0]\n",
    "hn=hn[1:]\n",
    "print('\\033[1m' + \"Total number of posts before cleaning: \" + '\\033[0m', len(hn),\"\\n\")\n",
    "print(headers,\"\\n\")\n",
    "for post in hn[:5]:\n",
    "    print(post,\"\\n\")"
   ]
  },
  {
   "cell_type": "markdown",
   "metadata": {},
   "source": [
    "# 2. Cleaning the data set\n",
    "We can see that there are a lot of rows in the data set where the value for the number of comments is zero. We do not need such posts, so we delete them."
   ]
  },
  {
   "cell_type": "code",
   "execution_count": 2,
   "metadata": {},
   "outputs": [
    {
     "name": "stdout",
     "output_type": "stream",
     "text": [
      "\u001b[1mTotal number of posts after cleaning: \u001b[0m 80401 \n",
      "\n",
      "['12578975', 'Saving the Hassle of Shopping', 'https://blog.menswr.com/2016/09/07/whats-new-with-your-style-feed/', '1', '1', 'bdoux', '9/26/2016 3:13'] \n",
      "\n",
      "['12578908', 'Ask HN: What TLD do you use for local development?', '', '4', '7', 'Sevrene', '9/26/2016 2:53'] \n",
      "\n",
      "['12578822', 'Amazons Algorithms Dont Find You the Best Deals', 'https://www.technologyreview.com/s/602442/amazons-algorithms-dont-find-you-the-best-deals/', '1', '1', 'yarapavan', '9/26/2016 2:26'] \n",
      "\n",
      "['12578694', 'Emergency dose of epinephrine that does not cost an arm and a leg', 'http://m.imgur.com/gallery/th6Ua', '2', '1', 'dredmorbius', '9/26/2016 1:54'] \n",
      "\n",
      "['12578624', 'Phone Makers Could Cut Off Drivers. So Why Dont They?', 'http://www.nytimes.com/2016/09/25/technology/phone-makers-could-cut-off-drivers-so-why-dont-they.html', '4', '1', 'danso', '9/26/2016 1:37'] \n",
      "\n"
     ]
    }
   ],
   "source": [
    "new_hn=[]\n",
    "for post in hn:\n",
    "    if post[4] != '0':\n",
    "        new_hn.append(post)\n",
    "    \n",
    "hn = new_hn\n",
    "\n",
    "print('\\033[1m' + \"Total number of posts after cleaning: \" + '\\033[0m', len(hn),\"\\n\")\n",
    "for post in hn[:5]:\n",
    "    print(post,\"\\n\")"
   ]
  },
  {
   "cell_type": "markdown",
   "metadata": {},
   "source": [
    "# 3. Dividing posts into groups\n",
    "We will divide posts from the data sets into three groups:\n",
    "1. Posts starting with Ask HN\n",
    "2. Posts starting with Show HN\n",
    "3. Other posts starting neither with Ask HN nor Show HN"
   ]
  },
  {
   "cell_type": "code",
   "execution_count": 3,
   "metadata": {},
   "outputs": [
    {
     "name": "stdout",
     "output_type": "stream",
     "text": [
      "\u001b[1mTotal number of posts in hacker news dataset: \u001b[0m 80401 \n",
      "\n",
      "\u001b[1mNumber of posts in ask_posts list: \u001b[0m 6911 \n",
      "\n",
      "['12578908', 'Ask HN: What TLD do you use for local development?', '', '4', '7', 'Sevrene', '9/26/2016 2:53'] \n",
      "\n",
      "['12578522', 'Ask HN: How do you pass on your work when you die?', '', '6', '3', 'PascLeRasc', '9/26/2016 1:17'] \n",
      "\n",
      "['12577870', 'Ask HN: Why join a fund when you can be an angel?', '', '1', '3', 'anthony_james', '9/25/2016 22:48'] \n",
      "\n",
      "['12577647', 'Ask HN: Someone uses stock trading as passive income?', '', '5', '2', '00taffe', '9/25/2016 21:50'] \n",
      "\n",
      "['12576946', 'Ask HN: How hard would it be to make a cheap, hackable phone?', '', '2', '1', 'hkt', '9/25/2016 19:30'] \n",
      "\n",
      "\u001b[1mNumber of posts in show_posts list: \u001b[0m 5059 \n",
      "\n",
      "['12577142', 'Show HN: Jumble  Essays on the go #PaulInYourPocket', 'https://itunes.apple.com/us/app/jumble-find-startup-essay/id1150939197?ls=1&mt=8', '1', '1', 'ryderj', '9/25/2016 20:06'] \n",
      "\n",
      "['12576813', 'Show HN: Learn Japanese Vocab via multiple choice questions', 'http://japanese.vul.io/', '1', '1', 'soulchild37', '9/25/2016 19:06'] \n",
      "\n",
      "['12576090', 'Show HN: Markov chain Twitter bot. Trained on comments left on Pornhub', 'https://twitter.com/botsonasty', '3', '1', 'keepingscore', '9/25/2016 16:50'] \n",
      "\n",
      "['12575471', 'Show HN: Project-Okot: Novel, CODE-FREE data-apps in mere seconds', 'https://studio.nuchwezi.com/', '3', '1', 'nfixx', '9/25/2016 14:30'] \n",
      "\n",
      "['12574773', 'Show HN: Cursor that Screenshot', 'http://edward.codes/cursor-that-screenshot', '3', '3', 'ed-bit', '9/25/2016 10:50'] \n",
      "\n",
      "\u001b[1mNumber of posts in other_posts list: \u001b[0m 68431 \n",
      "\n",
      "['12578975', 'Saving the Hassle of Shopping', 'https://blog.menswr.com/2016/09/07/whats-new-with-your-style-feed/', '1', '1', 'bdoux', '9/26/2016 3:13'] \n",
      "\n",
      "['12578822', 'Amazons Algorithms Dont Find You the Best Deals', 'https://www.technologyreview.com/s/602442/amazons-algorithms-dont-find-you-the-best-deals/', '1', '1', 'yarapavan', '9/26/2016 2:26'] \n",
      "\n",
      "['12578694', 'Emergency dose of epinephrine that does not cost an arm and a leg', 'http://m.imgur.com/gallery/th6Ua', '2', '1', 'dredmorbius', '9/26/2016 1:54'] \n",
      "\n",
      "['12578624', 'Phone Makers Could Cut Off Drivers. So Why Dont They?', 'http://www.nytimes.com/2016/09/25/technology/phone-makers-could-cut-off-drivers-so-why-dont-they.html', '4', '1', 'danso', '9/26/2016 1:37'] \n",
      "\n",
      "['12578556', 'OpenMW, Open Source Elderscrolls III: Morrowind Reimplementation', 'https://openmw.org/en/', '32', '3', 'rocky1138', '9/26/2016 1:24'] \n",
      "\n"
     ]
    }
   ],
   "source": [
    "ask_posts = []\n",
    "show_posts = []\n",
    "other_posts = []\n",
    "\n",
    "for post in hn:\n",
    "    title = post[1].lower()\n",
    "    if title.startswith(\"ask hn\"):\n",
    "        ask_posts.append(post)\n",
    "    elif title.startswith(\"show hn\"):\n",
    "        show_posts.append(post)\n",
    "    else:\n",
    "        other_posts.append(post)\n",
    "        \n",
    "print('\\033[1m' + \"Total number of posts in hacker news dataset: \" + '\\033[0m', len(hn),\"\\n\")\n",
    "print('\\033[1m' + \"Number of posts in ask_posts list: \" + '\\033[0m', len(ask_posts),\"\\n\")\n",
    "for post in ask_posts[:5]:\n",
    "    print(post,\"\\n\")\n",
    "\n",
    "print('\\033[1m' + \"Number of posts in show_posts list: \" + '\\033[0m', len(show_posts),\"\\n\")\n",
    "for post in show_posts[:5]:\n",
    "    print(post,\"\\n\")\n",
    "    \n",
    "print('\\033[1m' + \"Number of posts in other_posts list: \" + '\\033[0m', len(other_posts),\"\\n\")\n",
    "for post in other_posts[:5]:\n",
    "    print(post,\"\\n\")"
   ]
  },
  {
   "cell_type": "markdown",
   "metadata": {},
   "source": [
    "# 4. Calculating average number of comments for both types of posts"
   ]
  },
  {
   "cell_type": "code",
   "execution_count": 4,
   "metadata": {},
   "outputs": [
    {
     "name": "stdout",
     "output_type": "stream",
     "text": [
      "Average number of comments in ask_posts:  13.744175951381855 \n",
      "\n"
     ]
    }
   ],
   "source": [
    "total_ask_comments = 0\n",
    "for post in ask_posts:\n",
    "    total_ask_comments += int(post[4])\n",
    "    \n",
    "avg_ask_comments = total_ask_comments/len(ask_posts)\n",
    "print(\"Average number of comments in ask_posts: \", avg_ask_comments,\"\\n\")"
   ]
  },
  {
   "cell_type": "code",
   "execution_count": 5,
   "metadata": {},
   "outputs": [
    {
     "name": "stdout",
     "output_type": "stream",
     "text": [
      "Average number of comments in show_posts:  9.810832180272781 \n",
      "\n"
     ]
    }
   ],
   "source": [
    "total_show_comments = 0\n",
    "for post in show_posts:\n",
    "    total_show_comments += int(post[4])\n",
    "    \n",
    "avg_show_comments = total_show_comments/len(show_posts)\n",
    "print(\"Average number of comments in show_posts: \", avg_show_comments,\"\\n\")"
   ]
  },
  {
   "cell_type": "code",
   "execution_count": 6,
   "metadata": {},
   "outputs": [
    {
     "name": "stdout",
     "output_type": "stream",
     "text": [
      "True\n"
     ]
    }
   ],
   "source": [
    "print(avg_ask_comments > avg_show_comments)"
   ]
  },
  {
   "cell_type": "markdown",
   "metadata": {},
   "source": [
    "We see that Ask HN posts receive more comments rather than Show HN posts. This can be explained by the fact that posts where authors ask the community get more comments because of the answers for the question. "
   ]
  },
  {
   "cell_type": "markdown",
   "metadata": {},
   "source": [
    "# 5. Finding the number of Ask HN posts in every hour\n",
    "We will separate Ask HN posts by hour they were published and find the average number of comments per hour"
   ]
  },
  {
   "cell_type": "code",
   "execution_count": 7,
   "metadata": {},
   "outputs": [],
   "source": [
    "import datetime as dt\n",
    "result_list = []\n",
    "\n",
    "for post in ask_posts:\n",
    "    result_list.append([post[6], int(post[4])])\n",
    "    \n",
    "counts_by_hour = {}\n",
    "comments_by_hour = {}\n",
    "\n",
    "for result in result_list:\n",
    "    dt_object = dt.datetime.strptime(result[0], \"%m/%d/%Y %H:%M\")\n",
    "    dt_hour = dt_object.strftime(\"%H\")\n",
    "    if dt_hour not in counts_by_hour:\n",
    "        counts_by_hour[dt_hour]=1\n",
    "        comments_by_hour[dt_hour]=result[1]\n",
    "    else:\n",
    "        counts_by_hour[dt_hour]+=1\n",
    "        comments_by_hour[dt_hour]+=result[1]"
   ]
  },
  {
   "cell_type": "code",
   "execution_count": 8,
   "metadata": {},
   "outputs": [],
   "source": [
    "avg_by_hour = []\n",
    "\n",
    "for hour in counts_by_hour:\n",
    "    avg_by_hour.append([hour, comments_by_hour[hour]/counts_by_hour[hour]])"
   ]
  },
  {
   "cell_type": "code",
   "execution_count": 9,
   "metadata": {},
   "outputs": [
    {
     "name": "stdout",
     "output_type": "stream",
     "text": [
      "['00', 9.857142857142858]\n",
      "['01', 9.367713004484305]\n",
      "['02', 13.198237885462555]\n",
      "['03', 10.160377358490566]\n",
      "['04', 12.688172043010752]\n",
      "['05', 11.139393939393939]\n",
      "['06', 9.017045454545455]\n",
      "['07', 10.095541401273886]\n",
      "['08', 12.43157894736842]\n",
      "['09', 8.392045454545455]\n",
      "['10', 13.757990867579908]\n",
      "['11', 11.143426294820717]\n",
      "['12', 15.452554744525548]\n",
      "['13', 22.2239263803681]\n",
      "['14', 13.153439153439153]\n",
      "['15', 39.66809421841542]\n",
      "['16', 10.76144578313253]\n",
      "['17', 13.73019801980198]\n",
      "['18', 10.789823008849558]\n",
      "['19', 9.414285714285715]\n",
      "['20', 11.38265306122449]\n",
      "['21', 11.056511056511056]\n",
      "['22', 11.749128919860627]\n",
      "['23', 8.322463768115941]\n"
     ]
    }
   ],
   "source": [
    "avg_by_hour.sort()\n",
    "for item in avg_by_hour:\n",
    "    print(item,)"
   ]
  },
  {
   "cell_type": "markdown",
   "metadata": {},
   "source": [
    "# 6. Sorting and printing the result"
   ]
  },
  {
   "cell_type": "code",
   "execution_count": 10,
   "metadata": {},
   "outputs": [
    {
     "name": "stdout",
     "output_type": "stream",
     "text": [
      "[9.857142857142858, '00']\n",
      "[9.367713004484305, '01']\n",
      "[13.198237885462555, '02']\n",
      "[10.160377358490566, '03']\n",
      "[12.688172043010752, '04']\n",
      "[11.139393939393939, '05']\n",
      "[9.017045454545455, '06']\n",
      "[10.095541401273886, '07']\n",
      "[12.43157894736842, '08']\n",
      "[8.392045454545455, '09']\n",
      "[13.757990867579908, '10']\n",
      "[11.143426294820717, '11']\n",
      "[15.452554744525548, '12']\n",
      "[22.2239263803681, '13']\n",
      "[13.153439153439153, '14']\n",
      "[39.66809421841542, '15']\n",
      "[10.76144578313253, '16']\n",
      "[13.73019801980198, '17']\n",
      "[10.789823008849558, '18']\n",
      "[9.414285714285715, '19']\n",
      "[11.38265306122449, '20']\n",
      "[11.056511056511056, '21']\n",
      "[11.749128919860627, '22']\n",
      "[8.322463768115941, '23']\n"
     ]
    }
   ],
   "source": [
    "swap_avg_by_hour = []\n",
    "for row in avg_by_hour:\n",
    "    swap_avg_by_hour.append([row[1],row[0]])\n",
    "\n",
    "for row in swap_avg_by_hour:\n",
    "    print(row)"
   ]
  },
  {
   "cell_type": "code",
   "execution_count": 11,
   "metadata": {},
   "outputs": [],
   "source": [
    "sorted_swap = sorted(swap_avg_by_hour, reverse=True)"
   ]
  },
  {
   "cell_type": "code",
   "execution_count": 12,
   "metadata": {},
   "outputs": [
    {
     "name": "stdout",
     "output_type": "stream",
     "text": [
      "Top 5 Hours for Ask Posts Comments\n",
      "15:00: 39.67 average comments per post\n",
      "13:00: 22.22 average comments per post\n",
      "12:00: 15.45 average comments per post\n",
      "10:00: 13.76 average comments per post\n",
      "17:00: 13.73 average comments per post\n"
     ]
    }
   ],
   "source": [
    "print(\"Top 5 Hours for Ask Posts Comments\")\n",
    "for row in sorted_swap[:5]:\n",
    "    dt_obj = dt.datetime.strptime(row[1], \"%H\")\n",
    "    dt_str = dt_obj.strftime(\"%H:%M\")\n",
    "    print(\"{0}: {1:.2f} average comments per post\".format(dt_str, row[0]))"
   ]
  },
  {
   "cell_type": "markdown",
   "metadata": {
    "collapsed": true
   },
   "source": [
    "# 7. Conclusion\n",
    "We can conclude that Ask HN posts tend to receive more comments than Show HN posts. Moreover, Ask HN posts get the highest number of comments between 3pm and 4pm, about 39.67 comments on average."
   ]
  }
 ],
 "metadata": {
  "kernelspec": {
   "display_name": "Python 3",
   "language": "python",
   "name": "python3"
  },
  "language_info": {
   "codemirror_mode": {
    "name": "ipython",
    "version": 3
   },
   "file_extension": ".py",
   "mimetype": "text/x-python",
   "name": "python",
   "nbconvert_exporter": "python",
   "pygments_lexer": "ipython3",
   "version": "3.7.4"
  }
 },
 "nbformat": 4,
 "nbformat_minor": 2
}
